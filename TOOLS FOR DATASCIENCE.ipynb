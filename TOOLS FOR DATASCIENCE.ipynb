{
 "cells": [
  {
   "cell_type": "markdown",
   "id": "70d925b2",
   "metadata": {},
   "source": [
    "### Exercise 2 - Create a markdown cell with the title of the notebook. (1 pt)\n",
    "\n",
    "\n",
    "\n",
    "# TOOLS FOR DATASCIENCE"
   ]
  },
  {
   "cell_type": "markdown",
   "id": "897d0b6c",
   "metadata": {},
   "source": [
    "### Exercise 3 - Create a markdown cell for an introduction. (1 pt)"
   ]
  },
  {
   "cell_type": "markdown",
   "id": "d9f3703b",
   "metadata": {},
   "source": [
    "# INTRODUCTION\n",
    " \n",
    " \n",
    "This is my final project.\n",
    "In this course I learnt different tools and languages of data science"
   ]
  },
  {
   "cell_type": "markdown",
   "id": "d0ed94ba",
   "metadata": {},
   "source": [
    "### Exercise 4 - Create a markdown cell to list data science languages. (3 pts)\n",
    "\n"
   ]
  },
  {
   "cell_type": "markdown",
   "id": "460b6fd6",
   "metadata": {},
   "source": [
    "## Data Science Languages \n",
    "\n",
    "1)Python\n",
    "2)R\n",
    "3)Julia \n",
    "4)Scala \n",
    "5)JavaScript\n",
    "6)Java\n",
    "7)SQL\n",
    "8)C/C++"
   ]
  },
  {
   "cell_type": "markdown",
   "id": "19f4073f",
   "metadata": {},
   "source": [
    "### Exercise 5 - Create a markdown cell to list data science libraries. (3 pts)"
   ]
  },
  {
   "cell_type": "markdown",
   "id": "25ccdd3c",
   "metadata": {},
   "source": [
    "## Data Science Libraries \n",
    "\n",
    "1)MatplotLib\n",
    "2)Seaborn\n",
    "3)SciKit-Learn\n",
    "4)ggplot\n",
    "5)pandas\n",
    "6)Numpy\n",
    "7)Keras\n",
    "8)PyTorch\n",
    "9)Tensorflow\n",
    "10)Plotly"
   ]
  },
  {
   "cell_type": "markdown",
   "id": "2182e6c9",
   "metadata": {},
   "source": [
    "### Exercise 6 - Create a markdown cell with a table of Data Science tools. (3 pts)"
   ]
  },
  {
   "cell_type": "markdown",
   "id": "36da90e5",
   "metadata": {},
   "source": [
    "## Data Science Tools:\n",
    "\n",
    "Data Science Tools\n",
    "SAS. It is one of those data science tools which are specifically designed for statistical operation\t\t\n",
    "Apache Spark\n",
    "BigML"
   ]
  },
  {
   "cell_type": "markdown",
   "id": "e6004c8d",
   "metadata": {},
   "source": [
    "### Exercise 7 - Create a markdown cell introducing arithmetic expression examples. (1 pt)\n",
    "\n",
    "#### Below are a few examples of evaluating arithmetic expressions in Python"
   ]
  },
  {
   "cell_type": "code",
   "execution_count": 2,
   "id": "3d9a9405",
   "metadata": {},
   "outputs": [
    {
     "name": "stdout",
     "output_type": "stream",
     "text": [
      "16\n"
     ]
    }
   ],
   "source": [
    "a=5 \n",
    "b=11\n",
    "print(a+b)"
   ]
  },
  {
   "cell_type": "code",
   "execution_count": 4,
   "id": "813e3d73",
   "metadata": {},
   "outputs": [
    {
     "name": "stdout",
     "output_type": "stream",
     "text": [
      "60\n"
     ]
    }
   ],
   "source": [
    "a=6\n",
    "b=10\n",
    "print(a*b)"
   ]
  },
  {
   "cell_type": "code",
   "execution_count": 6,
   "id": "ffa9f737",
   "metadata": {},
   "outputs": [
    {
     "name": "stdout",
     "output_type": "stream",
     "text": [
      "0.6\n"
     ]
    }
   ],
   "source": [
    "a=15\n",
    "b=25\n",
    "print(a/b)"
   ]
  },
  {
   "cell_type": "markdown",
   "id": "5ae417da",
   "metadata": {},
   "source": [
    "### Exercise 8 - Create a code cell to multiply and add numbers. (2 pts)\n",
    "\n"
   ]
  },
  {
   "cell_type": "code",
   "execution_count": 8,
   "id": "e3bf1ef8",
   "metadata": {},
   "outputs": [
    {
     "data": {
      "text/plain": [
       "77"
      ]
     },
     "execution_count": 8,
     "metadata": {},
     "output_type": "execute_result"
    }
   ],
   "source": [
    "5+(8*9)"
   ]
  },
  {
   "cell_type": "markdown",
   "id": "c36ae723",
   "metadata": {},
   "source": [
    "### Exercise 9 - Create a code cell to convert minutes to hours. (2 pts)\n",
    "\n"
   ]
  },
  {
   "cell_type": "code",
   "execution_count": 11,
   "id": "82aca84e",
   "metadata": {},
   "outputs": [
    {
     "name": "stdout",
     "output_type": "stream",
     "text": [
      "0.4166666666666667\n"
     ]
    }
   ],
   "source": [
    "minutes=25\n",
    "hours=minutes/60\n",
    "print(hours)"
   ]
  },
  {
   "cell_type": "markdown",
   "id": "a42542be",
   "metadata": {},
   "source": [
    "### Exercise 10 -Insert a markdown cell to list Objectives. (3 pts)"
   ]
  },
  {
   "cell_type": "markdown",
   "id": "e91b2c95",
   "metadata": {},
   "source": [
    "Objectives:\n",
    "\n",
    "1)List popular languages that Data Scientists use.\n",
    "2)List commonly used libraries used by Data Scientists.\n",
    "3)Comment on Data Science tools."
   ]
  },
  {
   "cell_type": "markdown",
   "id": "cb79b497",
   "metadata": {},
   "source": [
    "Exercise 11 - Create a markdown cell to indicate the Author’s name. (2 pts)"
   ]
  },
  {
   "cell_type": "markdown",
   "id": "dc5e3e2d",
   "metadata": {},
   "source": [
    "# Author's Name\n",
    "\n",
    "John"
   ]
  },
  {
   "cell_type": "code",
   "execution_count": null,
   "id": "cb00c386",
   "metadata": {},
   "outputs": [],
   "source": []
  }
 ],
 "metadata": {
  "kernelspec": {
   "display_name": "Python 3 (ipykernel)",
   "language": "python",
   "name": "python3"
  },
  "language_info": {
   "codemirror_mode": {
    "name": "ipython",
    "version": 3
   },
   "file_extension": ".py",
   "mimetype": "text/x-python",
   "name": "python",
   "nbconvert_exporter": "python",
   "pygments_lexer": "ipython3",
   "version": "3.11.5"
  }
 },
 "nbformat": 4,
 "nbformat_minor": 5
}
